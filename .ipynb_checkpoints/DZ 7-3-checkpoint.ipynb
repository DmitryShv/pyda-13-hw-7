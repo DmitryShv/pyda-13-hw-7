{
 "cells": [
  {
   "cell_type": "markdown",
   "metadata": {},
   "source": [
    "### Задание 7.3\n",
    "Напишите функцию date_range, которая возвращает список дат за период от start_date до end_date. \n",
    "\n",
    "Даты должны вводиться в формате YYYY-MM-DD. \n",
    "\n",
    "В случае неверного формата или при start_date > end_date должен возвращаться пустой список."
   ]
  },
  {
   "cell_type": "code",
   "execution_count": 17,
   "metadata": {},
   "outputs": [],
   "source": [
    "from datetime import datetime as dt123\n",
    "from datetime import timedelta\n",
    "\n",
    "start_date = '2020-10-14'\n",
    "end_date = '2020-10-28'\n",
    "\n"
   ]
  },
  {
   "cell_type": "code",
   "execution_count": 18,
   "metadata": {},
   "outputs": [
    {
     "name": "stdout",
     "output_type": "stream",
     "text": [
      "['2020-10-14', '2020-10-15', '2020-10-16', '2020-10-17', '2020-10-18', '2020-10-19', '2020-10-20', '2020-10-21', '2020-10-22', '2020-10-23', '2020-10-24', '2020-10-25', '2020-10-26', '2020-10-27', '2020-10-28']\n"
     ]
    }
   ],
   "source": [
    "start_end_dates_list = []\n",
    "\n",
    "def date_period2(start_date_dt, end_date_dt):\n",
    "    \n",
    "    try:\n",
    "        start_date_dt = dt123.strptime(start_date, '%Y-%m-%d')\n",
    "        end_date_dt = dt123.strptime(end_date, '%Y-%m-%d')\n",
    "    \n",
    "        if start_date_dt < end_date_dt:\n",
    "            while start_date_dt <= end_date_dt:\n",
    "                # print(start_date_dt.strftime('%Y-%m-%d'))\n",
    "        \n",
    "                start_end_dates_list.append(start_date_dt.strftime('%Y-%m-%d'))\n",
    "        \n",
    "                start_date_dt += timedelta(days=1)\n",
    "            \n",
    "    except:\n",
    "        print('Not Ok')\n",
    "        \n",
    "date_period2(start_date, end_date)\n",
    "\n",
    "print(start_end_dates_list)"
   ]
  }
 ],
 "metadata": {
  "kernelspec": {
   "display_name": "Python 3",
   "language": "python",
   "name": "python3"
  },
  "language_info": {
   "codemirror_mode": {
    "name": "ipython",
    "version": 3
   },
   "file_extension": ".py",
   "mimetype": "text/x-python",
   "name": "python",
   "nbconvert_exporter": "python",
   "pygments_lexer": "ipython3",
   "version": "3.8.3"
  }
 },
 "nbformat": 4,
 "nbformat_minor": 4
}
